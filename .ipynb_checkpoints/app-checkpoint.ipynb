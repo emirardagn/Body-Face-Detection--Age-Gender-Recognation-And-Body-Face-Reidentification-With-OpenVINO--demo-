{
 "cells": [
  {
   "cell_type": "code",
   "execution_count": null,
   "id": "6e497f78",
   "metadata": {},
   "outputs": [],
   "source": [
    "import cv2\n",
    "from openvino.runtime import Core\n",
    "\n",
    "ie = Core()\n",
    "\n",
    "paths = [\"C:\\Users\\arda\\Desktop\\staj\\person-identification\\models\\person-reidentification-retail-0277\\FP32\\person-reidentification-retail-0277.xml\",\"C:\\Users\\arda\\Desktop\\staj\\person-identification\\models\\person-reidentification-retail-0286\\FP32\\person-reidentification-retail-0286.xml\",\"C:\\Users\\arda\\Desktop\\staj\\person-identification\\models\\person-reidentification-retail-0287\\FP32\\person-reidentification-retail-0287.xml\",\"C:\\Users\\arda\\Desktop\\staj\\person-identification\\models\\person-reidentification-retail-0288\\FP32\\person-reidentification-retail-0288.xml\"]\n",
    "\n",
    "for path in paths:\n",
    "    \n",
    "    model_path = path\n",
    "    model = ie.read_model(model=model_path)\n",
    "    compiled_model = ie.compile_model(model=model, device_name=\"CPU\")\n",
    "\n",
    "    input_layer = next(iter(compiled_model.inputs))\n",
    "    output_layer = next(iter(compiled_model.outputs))\n",
    "\n",
    "    vid = cv2.VideoCapture(0)\n",
    "\n",
    "    while True: \n",
    "        ret, frame = vid.read() \n",
    "\n",
    "        initial_h, initial_w = frame.shape[:2]\n",
    "\n",
    "        input_shape = input_layer.shape\n",
    "        image_resized = cv2.resize(frame, (input_shape[3], input_shape[2]))\n",
    "        image_transposed = image_resized.transpose((2, 0, 1))\n",
    "        image_reshaped = image_transposed.reshape(1, 3, input_shape[2], input_shape[3])\n",
    "\n",
    "        results = compiled_model([image_reshaped])[output_layer]\n",
    "        number_of_total_people = 0\n",
    "\n",
    "        for result in results:\n",
    "            confidence = result[2]\n",
    "            if confidence > 0.01:\n",
    "                number_of_total_people += 1\n",
    "                #pointleri belirle\n",
    "                xmin = int(result[3] * initial_w)\n",
    "                ymin = int(result[4] * initial_h)\n",
    "                xmax = int(result[5] * initial_w)\n",
    "                ymax = int(result[6] * initial_h)\n",
    "\n",
    "                # Draw rectangle\n",
    "                cv2.rectangle(frame, (xmin, ymin), (xmax, ymax), (0, 0, 255), 2)\n",
    "\n",
    "        cv2.imshow(\"Detection Results\", frame)\n",
    "\n",
    "        if cv2.waitKey(1) & 0xFF == ord('q'): \n",
    "            break\n",
    "    print(number_of_total_people)\n",
    "    vid.release() \n",
    "    cv2.destroyAllWindows()\n"
   ]
  },
  {
   "cell_type": "code",
   "execution_count": null,
   "id": "493a7042",
   "metadata": {},
   "outputs": [],
   "source": [
    "frame.shape[:2]"
   ]
  },
  {
   "cell_type": "code",
   "execution_count": 25,
   "id": "3e281565",
   "metadata": {},
   "outputs": [
    {
     "data": {
      "text/plain": [
       "0.19646665"
      ]
     },
     "execution_count": 25,
     "metadata": {},
     "output_type": "execute_result"
    }
   ],
   "source": []
  },
  {
   "cell_type": "code",
   "execution_count": null,
   "id": "c8121f4b",
   "metadata": {},
   "outputs": [],
   "source": []
  }
 ],
 "metadata": {
  "kernelspec": {
   "display_name": "Python 3 (ipykernel)",
   "language": "python",
   "name": "python3"
  },
  "language_info": {
   "codemirror_mode": {
    "name": "ipython",
    "version": 3
   },
   "file_extension": ".py",
   "mimetype": "text/x-python",
   "name": "python",
   "nbconvert_exporter": "python",
   "pygments_lexer": "ipython3",
   "version": "3.11.5"
  }
 },
 "nbformat": 4,
 "nbformat_minor": 5
}
